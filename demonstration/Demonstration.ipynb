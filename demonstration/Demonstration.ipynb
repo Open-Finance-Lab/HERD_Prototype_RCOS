{
 "cells": [
  {
   "cell_type": "markdown",
   "id": "4a31f7cc",
   "metadata": {},
   "source": [
    "# Run Aggregation\n",
    "\n",
    "Use the cell below to run the full aggregation pipeline for HERD. This will take your prompt, route it to the relevant experts, and return your final aggregated response."
   ]
  },
  {
   "cell_type": "code",
   "execution_count": null,
   "id": "721a476d",
   "metadata": {},
   "outputs": [],
   "source": [
    "import requests\n",
    "\n",
    "API_URL = \"http://localhost:8000/Call_experts_locally_and_aggregate\"\n",
    "\n",
    "prompt = input(\"Enter your question: \")\n",
    "\n",
    "payload = {\n",
    "    \"text\": prompt,\n",
    "    \"top_k\": 3\n",
    "}\n",
    "\n",
    "try:\n",
    "    response = requests.post(API_URL, json=payload, timeout=60)\n",
    "    response.raise_for_status()\n",
    "    data = response.json()\n",
    "    \n",
    "    print(\"\\nFinal Answer:\")\n",
    "    print(data.get(\"final_answer\", \"[No final answer returned]\"))\n",
    "\n",
    "except requests.exceptions.RequestException as e:\n",
    "    print(f\"Request failed: {e}\")\n",
    "except Exception as e:\n",
    "    print(f\"unexpected error: {e}\")\n"
   ]
  }
 ],
 "metadata": {
  "language_info": {
   "name": "python"
  }
 },
 "nbformat": 4,
 "nbformat_minor": 5
}
