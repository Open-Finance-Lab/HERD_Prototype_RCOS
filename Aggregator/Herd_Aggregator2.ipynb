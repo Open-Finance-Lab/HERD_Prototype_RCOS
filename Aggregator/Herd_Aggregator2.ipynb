{
  "cells": [
    {
      "cell_type": "code",
      "execution_count": null,
      "metadata": {
        "colab": {
          "base_uri": "https://localhost:8080/"
        },
        "collapsed": true,
        "id": "C0MUAJXCFb2u",
        "outputId": "0b52c885-9ca7-40b5-cf98-549618ff4a4e"
      },
      "outputs": [],
      "source": [
        "!pip install langchain langchain-community transformers\n",
        "!pip install faiss-cpu"
      ]
    },
    {
      "cell_type": "code",
      "execution_count": null,
      "metadata": {
        "colab": {
          "base_uri": "https://localhost:8080/"
        },
        "collapsed": true,
        "id": "pc302s9A9Jrh",
        "outputId": "bcd030f4-e516-40d2-8521-c03cd5ad8ff7"
      },
      "outputs": [],
      "source": [
        "from transformers import AutoTokenizer, AutoModelForSeq2SeqLM, pipeline\n",
        "from langchain_community.llms import HuggingFacePipeline\n",
        "from langchain.chains.summarize import load_summarize_chain\n",
        "from langchain.docstore.document import Document\n",
        "from langchain.vectorstores import FAISS\n",
        "from langchain.embeddings import HuggingFaceEmbeddings\n",
        "from langchain.text_splitter import RecursiveCharacterTextSplitter\n",
        "from langchain.indexes import VectorstoreIndexCreator\n",
        "from langchain.schema import Document\n",
        "\n",
        "model_name = \"facebook/bart-large-cnn\"\n",
        "\n",
        "model = AutoModelForSeq2SeqLM.from_pretrained(model_name)\n",
        "tokenizer = AutoTokenizer.from_pretrained(model_name)\n",
        "\n",
        "summarizer_pipeline = pipeline(\n",
        "    \"summarization\",\n",
        "    model=model,\n",
        "    tokenizer=tokenizer,\n",
        "    framework=\"pt\"\n",
        ")\n",
        "\n",
        "hf_llm = HuggingFacePipeline(pipeline=summarizer_pipeline)\n",
        "\n",
        "def generate_summary(expert_responses):\n",
        "    docs = [Document(page_content=response) for response in expert_responses]\n",
        "    chain = load_summarize_chain(hf_llm, chain_type=\"map_reduce\")\n",
        "    summary = chain.run(docs)\n",
        "    return summary\n",
        "\n",
        "def create_vector_index(summary_text):\n",
        "    embeddings = HuggingFaceEmbeddings()\n",
        "    text_splitter = RecursiveCharacterTextSplitter(chunk_size=500, chunk_overlap=50)\n",
        "    split_texts = text_splitter.split_text(summary_text)\n",
        "\n",
        "    docs = [Document(page_content=text) for text in split_texts]\n",
        "    vector_db = FAISS.from_documents(docs, embeddings)\n",
        "    return vector_db\n",
        "\n",
        "def query_summary(vector_db, user_query, k=3, score_threshold=0.3):\n",
        "    retrieved_docs = vector_db.similarity_search(user_query, k=k)\n",
        "\n",
        "    if not retrieved_docs:\n",
        "        return \"No relevant information found.\"\n",
        "\n",
        "    response_list = []\n",
        "    for i, doc in enumerate(retrieved_docs):\n",
        "        response_list.append(f\"{i+1}. {doc.page_content}\")\n",
        "\n",
        "    aggregated_response = \"\\n\".join(response_list)\n",
        "\n",
        "    return f\"Here’s what I found based on your query:\\n\\n{aggregated_response}\"\n",
        "\n",
        "# Example usage:\n",
        "if __name__ == \"__main__\":\n",
        "    user_query = \"How can I optimize deep learning models in production?\"\n",
        "    expert_responses = [\n",
        "        \"Optimizing data pipelines and leveraging hardware accelerators like GPUs or TPUs will further improve throughput.\",\n",
        "        \"Consider using model quantization and pruning techniques to reduce model size and inference latency.\",\n",
        "        \"Implementing efficient serving architectures such as TensorRT or ONNX Runtime can boost performance.\"\n",
        "    ]\n",
        "\n",
        "    summary_text = generate_summary(expert_responses)\n",
        "    print(\"Generated Summary:\\n\", summary_text)\n",
        "\n",
        "    vector_db = create_vector_index(summary_text)\n",
        "\n",
        "    answer = query_summary(vector_db, user_query)\n",
        "    print(\"\\nAggregated Answer:\\n\", answer)\n"
      ]
    },
    {
      "cell_type": "code",
      "execution_count": null,
      "metadata": {
        "id": "2nqLoKK3Gn4E"
      },
      "outputs": [],
      "source": []
    }
  ],
  "metadata": {
    "colab": {
      "provenance": []
    },
    "kernelspec": {
      "display_name": "Python 3",
      "name": "python3"
    },
    "language_info": {
      "name": "python"
    }
  },
  "nbformat": 4,
  "nbformat_minor": 0
}
